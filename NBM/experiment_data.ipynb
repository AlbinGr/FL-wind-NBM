{
 "cells": [
  {
   "cell_type": "code",
   "execution_count": null,
   "metadata": {},
   "outputs": [],
   "source": [
    "import sys , os, pickle\n",
    "sys.path.insert(0, os.path.join(os.getcwd()))\n",
    "\n",
    "from experiment_parameter import *\n",
    "from model_parameter import *\n",
    "\n",
    "\n",
    "from exp_utils import create_results_dataframe"
   ]
  },
  {
   "cell_type": "code",
   "execution_count": null,
   "metadata": {},
   "outputs": [],
   "source": [
    "experiment_name = \"Exp_1\"\n",
    "file_name = f\"result data {experiment_name}\"\n",
    "gpu = False\n",
    "\n",
    "with open(os.path.join(f\"results/{experiment_name}\", f\"{experiment_name}_exp_parameters.pkl\"), 'rb') as f:\n",
    "    exp = pickle.load(f)\n",
    "with open(os.path.join(f\"results/{experiment_name}\", f\"{experiment_name}_model_parameters.pkl\"), 'rb') as f:\n",
    "    model = pickle.load(f)"
   ]
  },
  {
   "cell_type": "code",
   "execution_count": null,
   "metadata": {},
   "outputs": [],
   "source": [
    "# Device choice\n",
    "print(\"Using cuda:0\" if torch.cuda.is_available() and gpu else \"Using cpu\")\n",
    "exp.device = torch.device(\"cuda:0\") if torch.cuda.is_available() and gpu else torch.device(\"cpu\")\n",
    "model.device = torch.device(\"cuda:0\") if torch.cuda.is_available() and gpu else torch.device(\"cpu\")"
   ]
  },
  {
   "cell_type": "code",
   "execution_count": null,
   "metadata": {},
   "outputs": [],
   "source": [
    "from exp_utils import PATHClass\n",
    "Path = PATHClass(BASE_PATH=BASE_PATH)\n",
    "Path.exp_name = experiment_name\n",
    "res = create_results_dataframe(exp = exp, model = model, file_name = file_name, verbose = True, exp_name = experiment_name, BASE_PATH = BASE_PATH,\\\n",
    "                                SAVE_PATH=os.path.join(Path.EXP_PATH, f\"{file_name}_Max_Error.pkl\"), metric= lambda x,y: torch.max(torch.abs(x-y))  "
   ]
  }
 ],
 "metadata": {
  "kernelspec": {
   "display_name": ".venv",
   "language": "python",
   "name": "python3"
  },
  "language_info": {
   "codemirror_mode": {
    "name": "ipython",
    "version": 3
   },
   "file_extension": ".py",
   "mimetype": "text/x-python",
   "name": "python",
   "nbconvert_exporter": "python",
   "pygments_lexer": "ipython3",
   "version": "3.9.13"
  }
 },
 "nbformat": 4,
 "nbformat_minor": 2
}
